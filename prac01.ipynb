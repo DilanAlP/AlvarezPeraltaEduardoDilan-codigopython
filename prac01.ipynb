{
 "cells": [
  {
   "cell_type": "code",
   "execution_count": 9,
   "id": "f51b1f16",
   "metadata": {},
   "outputs": [
    {
     "name": "stdout",
     "output_type": "stream",
     "text": [
      "   //\\ \n",
      "  //__\\ \n",
      "  ||  ||\n",
      "  ||__||\n"
     ]
    }
   ],
   "source": [
    "print(r'   //\\ ')\n",
    "print(r'  //__\\ ')\n",
    "print('  ||  ||')\n",
    "print('  ||__||')\n"
   ]
  },
  {
   "cell_type": "code",
   "execution_count": 12,
   "id": "a73b01f0",
   "metadata": {},
   "outputs": [
    {
     "name": "stdout",
     "output_type": "stream",
     "text": [
      "¡Hola! ¿Me puedes dar tu nombre? Dilan\n",
      "ahora ¿me puedes dar tu telefono?5614439421\n",
      "Gracias. por ultimo proporcioname tu emaileduardodilanalpe@gmail.com\n",
      "Bienvenido Dilan tu telefono es 5614439421 y tu email eduardodilanalpe@gmail.com\n"
     ]
    }
   ],
   "source": [
    "name = input(\"¡Hola! ¿Me puedes dar tu nombre? \")\n",
    "numt = input(\"ahora ¿me puedes dar tu telefono?\")\n",
    "email = input(\"Gracias. por ultimo proporcioname tu email\")\n",
    "print(\"Bienvenido \" + name + \" tu telefono es \" + numt + \" y tu email \" + email)"
   ]
  },
  {
   "cell_type": "code",
   "execution_count": 9,
   "id": "d5aedcb0",
   "metadata": {},
   "outputs": [
    {
     "name": "stdout",
     "output_type": "stream",
     "text": [
      "Ingresa el valor de la resisterncia uno 73\n",
      "Ingresa el valor de la resisterncia dos 4\n",
      "La resistencia total = 3.792207792207792\n"
     ]
    }
   ],
   "source": [
    "r1 = float(input(\"Ingresa el valor de la resisterncia uno \"))\n",
    "r2 = float(input(\"Ingresa el valor de la resisterncia dos \"))\n",
    "rt = (r1 * r2) / (r1 + r2)\n",
    "print(\"La resistencia total = \" + str(rt))"
   ]
  },
  {
   "cell_type": "code",
   "execution_count": 5,
   "id": "3cd4f67d",
   "metadata": {},
   "outputs": [
    {
     "name": "stdout",
     "output_type": "stream",
     "text": [
      "fila 0, columna 0 : 5\n",
      "fila 0, columna 1 : 5\n",
      "fila 1, columna 0 : 5\n",
      "fila 1, columna 1 : 1.\n",
      "-20.0\n"
     ]
    }
   ],
   "source": [
    "matriz = []\n",
    "for f in range(2):\n",
    "    matriz.append([])\n",
    "    for c in range(2):\n",
    "        dato=float(input(\"fila {}, columna {} : \".format(f,c)))\n",
    "        matriz[f].append(dato)\n",
    "det=(matriz[0][0]* matriz[1][1])-(matriz[0][1]* matriz[1][0]) \n",
    "print (det)"
   ]
  },
  {
   "cell_type": "code",
   "execution_count": 28,
   "id": "1d5fa512",
   "metadata": {},
   "outputs": [
    {
     "name": "stdout",
     "output_type": "stream",
     "text": [
      "Ingresa valor de la variable cadratica: 1\n",
      "Ingresa el valor de variable lienal: 2\n",
      "Ingresa el termino independiente: -8\n",
      "x1 = 2.0\n",
      "x2 = -4.0\n"
     ]
    }
   ],
   "source": [
    "from math import sqrt\n",
    "A = float(input(\"Ingresa valor de la variable cadratica: \"))\n",
    "B = float(input(\"Ingresa el valor de variable lienal: \")) \n",
    "C = float(input(\"Ingresa el termino independiente: \"))\n",
    "x1 = (-B+sqrt(B**2-(4*A*C)))/(2*A)\n",
    "x2 = (-B-sqrt(B**2-(4*A*C)))/(2*A)\n",
    "print(\"x1 = {}\".format(x1))\n",
    "print(\"x2 = {}\".format(x2))"
   ]
  },
  {
   "cell_type": "code",
   "execution_count": 32,
   "id": "eac41c56",
   "metadata": {},
   "outputs": [
    {
     "name": "stdout",
     "output_type": "stream",
     "text": [
      "ingresa un valor48\n",
      "El dato 48.0 es un numero positivo\n"
     ]
    }
   ],
   "source": [
    "dato = float(input(\"ingresa un valor\"))\n",
    "if dato > 0:\n",
    "    print(\"El dato {} es un numero positivo\".format(dato))\n",
    "elif dato < 0:\n",
    "    print(\"El dato {} es un numero negativo\".format(dato))\n",
    "else:\n",
    "    print(\"El dato {} es 0\".format(dato))"
   ]
  },
  {
   "cell_type": "code",
   "execution_count": 35,
   "id": "2ec05f91",
   "metadata": {},
   "outputs": [
    {
     "name": "stdout",
     "output_type": "stream",
     "text": [
      "Nombre: Dilan\n",
      "Ingresa tu edad: 27\n",
      "Tu ingreso mensual: 10000\n",
      "Egreso mensual: 5000\n",
      "Prestamo: 45000\n",
      "Mensualidades en '3,6,9,12,24,48': 12\n",
      "Felicidades Dilan tu prestamo de 45000 fue autorizado con una cuota de 3750.0\n"
     ]
    }
   ],
   "source": [
    "nombre= input(\"Nombre: \")\n",
    "edad= int(input(\"Ingresa tu edad: \"))\n",
    "ingreso= int(input(\"Tu ingreso mensual: \"))\n",
    "egreso= int(input(\"Egreso mensual: \"))\n",
    "prestamo= int(input(\"Prestamo: \"))\n",
    "meses= int(input(\"Mensualidades en '3,6,9,12,24,48': \"))\n",
    "cuota= prestamo/meses\n",
    "resul=ingreso-egreso\n",
    "if edad<=17:\n",
    "    print(\"Debes ser mayor a 18 años\")\n",
    "    print(edad)\n",
    "elif ingreso < egreso:\n",
    "    print(\"Se ha negado el credito por falta de ingresos\")\n",
    "elif cuota>resul:\n",
    "    print(\"Se ha negado el credito por falta de ingresos para pago\")\n",
    "    print(cuota)\n",
    "else:\n",
    "    print(\"Felicidades \"+ nombre + \" tu prestamo de \" + str(prestamo)+ \n",
    "    \" fue autorizado con una cuota de \" + str(cuota) )\n",
    "\n"
   ]
  },
  {
   "cell_type": "code",
   "execution_count": 37,
   "id": "dc576937",
   "metadata": {},
   "outputs": [
    {
     "name": "stdout",
     "output_type": "stream",
     "text": [
      "*  \n",
      "*  *  \n",
      "*  *  *  \n",
      "*  *  *  *  \n",
      "*  *  *  *  *  \n",
      "*  *  *  *  \n",
      "*  *  *  \n",
      "*  *  \n",
      "*  \n",
      "\n"
     ]
    }
   ],
   "source": [
    "for nlineas in range(5):\n",
    "    espacios= 5 - nlineas - 1\n",
    "    asteriscos= 1 + nlineas * 1\n",
    "    print(\"\"*espacios+\"*  \"*asteriscos)\n",
    "    if asteriscos == 5:\n",
    "        espacios=0\n",
    "        asteriscos=5\n",
    "        for nlineas in range(5):\n",
    "            espacios=espacios+1\n",
    "            asteriscos = asteriscos-1\n",
    "            print(\"\"*espacios+\"*  \"*asteriscos)"
   ]
  },
  {
   "cell_type": "code",
   "execution_count": 38,
   "id": "80e6d420",
   "metadata": {},
   "outputs": [
    {
     "name": "stdout",
     "output_type": "stream",
     "text": [
      "Ingresa una palabra:Dilan\n",
      "naliD\n"
     ]
    }
   ],
   "source": [
    "palabra=input(\"Ingresa una palabra:\")\n",
    "inv=\"\"\n",
    "for i in palabra:\n",
    "    inv = i + inv\n",
    "print(inv)"
   ]
  },
  {
   "cell_type": "code",
   "execution_count": 106,
   "id": "1105619e",
   "metadata": {},
   "outputs": [
    {
     "name": "stdout",
     "output_type": "stream",
     "text": [
      "[0, 1, 2, 4, 5]\n"
     ]
    }
   ],
   "source": [
    "lista = [0,1,2,3,4,5,6]\n",
    "removed = lista.pop(3)\n",
    "removed_2 = lista.pop(-1)\n",
    "print(lista)\n",
    "        "
   ]
  },
  {
   "cell_type": "code",
   "execution_count": null,
   "id": "e4b458e8",
   "metadata": {},
   "outputs": [],
   "source": []
  }
 ],
 "metadata": {
  "kernelspec": {
   "display_name": "Python 3",
   "language": "python",
   "name": "python3"
  },
  "language_info": {
   "codemirror_mode": {
    "name": "ipython",
    "version": 3
   },
   "file_extension": ".py",
   "mimetype": "text/x-python",
   "name": "python",
   "nbconvert_exporter": "python",
   "pygments_lexer": "ipython3",
   "version": "3.8.8"
  }
 },
 "nbformat": 4,
 "nbformat_minor": 5
}
