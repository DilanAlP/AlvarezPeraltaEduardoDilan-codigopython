{
 "cells": [
  {
   "cell_type": "code",
   "execution_count": 6,
   "id": "7975278b",
   "metadata": {},
   "outputs": [],
   "source": [
    "import sqlite3"
   ]
  },
  {
   "cell_type": "code",
   "execution_count": 8,
   "id": "d591a451",
   "metadata": {},
   "outputs": [],
   "source": [
    "conexion = sqlite3.connect(\"ejemplo.db\")\n",
    "cursor = conexion.cursor()\n",
    "#creamos una tabla de estudiantes\n",
    "cursor.execute(\"CREATE TABLE estudiantes (email VARCHAR(100), carrera VARCHAR(100),nombre VARCHAR(100), edad INTEGER)\")\n",
    "conexion.close()"
   ]
  },
  {
   "cell_type": "code",
   "execution_count": 9,
   "id": "e80933c4",
   "metadata": {},
   "outputs": [],
   "source": [
    "conexion = sqlite3.connect(\"ejemplo.db\")\n",
    "cursor = conexion.cursor()\n",
    "#Insertamos datos en la tabla\n",
    "cursor.execute(\"INSERT INTO estudiantes VALUES('bluenote@gmail.com','Artes','Sharon',27)\")\n",
    "#Guardamos los cambios haciendo un commit\n",
    "conexion.commit()\n",
    "conexion.close()"
   ]
  },
  {
   "cell_type": "code",
   "execution_count": 10,
   "id": "1843d80d",
   "metadata": {},
   "outputs": [
    {
     "name": "stdout",
     "output_type": "stream",
     "text": [
      "('bluenote@gmail.com', 'Artes', 'Sharon', 27)\n"
     ]
    }
   ],
   "source": [
    "conexion = sqlite3.connect(\"ejemplo.db\")\n",
    "cursor = conexion.cursor()\n",
    "\n",
    "#selecionamos todos los regristros de la tabla\n",
    "cursor.execute(\"SELECT * FROM estudiantes\")\n",
    "usuarios = cursor.fetchone()\n",
    "print(usuarios)"
   ]
  },
  {
   "cell_type": "code",
   "execution_count": 12,
   "id": "d228374f",
   "metadata": {},
   "outputs": [],
   "source": [
    "conexion = sqlite3.connect(\"ejemplo.db\")\n",
    "cursor = conexion.cursor()\n",
    "\n",
    "usuarios = [\n",
    "    ('dilanalpe@gmail.com','sistemas','Dilan',27),\n",
    "    ('juanmdfd@gmail.com','diseño','Juna',25),\n",
    "    ('moises@gmail.com','admins','Moises',22),\n",
    "    ('marco@gmail.com','sistemas','Marco',30)\n",
    "]\n",
    "\n",
    "cursor.executemany(\"INSERT INTO estudiantes VALUES (?,?,?,?)\", usuarios)\n",
    "\n",
    "conexion.commit()\n",
    "conexion.close()"
   ]
  },
  {
   "cell_type": "code",
   "execution_count": 13,
   "id": "278aabb3",
   "metadata": {},
   "outputs": [
    {
     "name": "stdout",
     "output_type": "stream",
     "text": [
      "('bluenote@gmail.com', 'Artes', 'Sharon', 27)\n",
      "('dilanalpe@gmail.com', 'sistemas', 'Dilan', 27)\n",
      "('juanmdfd@gmail.com', 'diseño', 'Juna', 25)\n",
      "('moises@gmail.com', 'admins', 'Moises', 22)\n",
      "('marco@gmail.com', 'sistemas', 'Marco', 30)\n"
     ]
    }
   ],
   "source": [
    "conexion = sqlite3.connect(\"ejemplo.db\")\n",
    "cursor = conexion.cursor()\n",
    "cursor.execute(\"SELECT * FROM estudiantes\")\n",
    "usuarios = cursor.fetchall()\n",
    "for u in usuarios:\n",
    "    print(u)\n",
    "conexion.close()"
   ]
  },
  {
   "cell_type": "code",
   "execution_count": null,
   "id": "90286270",
   "metadata": {},
   "outputs": [],
   "source": [
    "import sqlite3\n",
    "import csv\n",
    "\n",
    "conexion = sqlite3.connect(r\"C:\\Users\\eduar\\Documents\\I.S.C\\9no semestre\\Sistemas basados en conocimiento\\2do parcial\\SQLite\\ejemplo.db\")\n",
    "cursor = conexion.cursor()\n",
    "\n",
    "archivo = open(r\"C:\\Users\\eduar\\Documents\\I.S.C\\9no semestre\\Sistemas basados en conocimiento\\2do parcial\\SQLite\\datos_db.txt\")\n",
    "\n",
    "filas = csv.reader(archivo)\n",
    "\n",
    "cursor.executemany(\"INSERT INTO estudiantes VALUES(?.?.?.?)\", filas)\n",
    "\n",
    "cursor.execute(\"SELECT * FROM estudiantes\")\n",
    "print(cursor.fetchall())\n",
    "\n",
    "conexion.commit()\n",
    "conexion.close()"
   ]
  }
 ],
 "metadata": {
  "kernelspec": {
   "display_name": "Python 3",
   "language": "python",
   "name": "python3"
  },
  "language_info": {
   "codemirror_mode": {
    "name": "ipython",
    "version": 3
   },
   "file_extension": ".py",
   "mimetype": "text/x-python",
   "name": "python",
   "nbconvert_exporter": "python",
   "pygments_lexer": "ipython3",
   "version": "3.8.8"
  }
 },
 "nbformat": 4,
 "nbformat_minor": 5
}
